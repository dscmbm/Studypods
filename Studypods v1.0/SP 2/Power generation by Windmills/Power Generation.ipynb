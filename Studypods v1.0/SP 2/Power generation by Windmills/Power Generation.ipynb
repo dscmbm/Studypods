{
 "cells": [
  {
   "cell_type": "code",
   "execution_count": 1,
   "id": "b28579c8",
   "metadata": {},
   "outputs": [],
   "source": [
    "import pandas as pd\n",
    "import numpy as np\n",
    "import matplotlib.pyplot as plt\n",
    "import seaborn as sb"
   ]
  },
  {
   "cell_type": "code",
   "execution_count": 2,
   "id": "5332c7c1",
   "metadata": {},
   "outputs": [],
   "source": [
    "df1 = pd.read_csv(\"train.csv\")\n",
    "df2 = pd.read_csv(\"test.csv\")"
   ]
  },
  {
   "cell_type": "code",
   "execution_count": 3,
   "id": "3edc442e",
   "metadata": {},
   "outputs": [
    {
     "data": {
      "text/html": [
       "<div>\n",
       "<style scoped>\n",
       "    .dataframe tbody tr th:only-of-type {\n",
       "        vertical-align: middle;\n",
       "    }\n",
       "\n",
       "    .dataframe tbody tr th {\n",
       "        vertical-align: top;\n",
       "    }\n",
       "\n",
       "    .dataframe thead th {\n",
       "        text-align: right;\n",
       "    }\n",
       "</style>\n",
       "<table border=\"1\" class=\"dataframe\">\n",
       "  <thead>\n",
       "    <tr style=\"text-align: right;\">\n",
       "      <th></th>\n",
       "      <th>tracking_id</th>\n",
       "      <th>datetime</th>\n",
       "      <th>wind_speed(m/s)</th>\n",
       "      <th>atmospheric_temperature(°C)</th>\n",
       "      <th>shaft_temperature(°C)</th>\n",
       "      <th>blades_angle(°)</th>\n",
       "      <th>gearbox_temperature(°C)</th>\n",
       "      <th>engine_temperature(°C)</th>\n",
       "      <th>motor_torque(N-m)</th>\n",
       "      <th>generator_temperature(°C)</th>\n",
       "      <th>...</th>\n",
       "      <th>windmill_body_temperature(°C)</th>\n",
       "      <th>wind_direction(°)</th>\n",
       "      <th>resistance(ohm)</th>\n",
       "      <th>rotor_torque(N-m)</th>\n",
       "      <th>turbine_status</th>\n",
       "      <th>cloud_level</th>\n",
       "      <th>blade_length(m)</th>\n",
       "      <th>blade_breadth(m)</th>\n",
       "      <th>windmill_height(m)</th>\n",
       "      <th>windmill_generated_power(kW/h)</th>\n",
       "    </tr>\n",
       "  </thead>\n",
       "  <tbody>\n",
       "    <tr>\n",
       "      <th>0</th>\n",
       "      <td>WM_33725</td>\n",
       "      <td>2019-08-04 14:33:20</td>\n",
       "      <td>94.820023</td>\n",
       "      <td>-99.000000</td>\n",
       "      <td>41.723019</td>\n",
       "      <td>-0.903423</td>\n",
       "      <td>82.410573</td>\n",
       "      <td>42.523015</td>\n",
       "      <td>2563.124522</td>\n",
       "      <td>76.665560</td>\n",
       "      <td>...</td>\n",
       "      <td>NaN</td>\n",
       "      <td>239.836388</td>\n",
       "      <td>2730.310605</td>\n",
       "      <td>42.084666</td>\n",
       "      <td>BA</td>\n",
       "      <td>Medium</td>\n",
       "      <td>2.217542</td>\n",
       "      <td>0.314065</td>\n",
       "      <td>24.281689</td>\n",
       "      <td>6.766521</td>\n",
       "    </tr>\n",
       "    <tr>\n",
       "      <th>1</th>\n",
       "      <td>WM_698</td>\n",
       "      <td>2018-11-05 10:13:20</td>\n",
       "      <td>241.832734</td>\n",
       "      <td>27.764785</td>\n",
       "      <td>-99.000000</td>\n",
       "      <td>-99.000000</td>\n",
       "      <td>44.104919</td>\n",
       "      <td>46.258870</td>\n",
       "      <td>2372.384119</td>\n",
       "      <td>78.129803</td>\n",
       "      <td>...</td>\n",
       "      <td>NaN</td>\n",
       "      <td>337.944723</td>\n",
       "      <td>1780.207200</td>\n",
       "      <td>107.888643</td>\n",
       "      <td>A2</td>\n",
       "      <td>Medium</td>\n",
       "      <td>4.210346</td>\n",
       "      <td>0.448494</td>\n",
       "      <td>27.262139</td>\n",
       "      <td>5.966275</td>\n",
       "    </tr>\n",
       "    <tr>\n",
       "      <th>2</th>\n",
       "      <td>WM_39146</td>\n",
       "      <td>2019-09-14 14:03:20</td>\n",
       "      <td>95.484724</td>\n",
       "      <td>NaN</td>\n",
       "      <td>41.855473</td>\n",
       "      <td>12.652763</td>\n",
       "      <td>42.322098</td>\n",
       "      <td>42.878552</td>\n",
       "      <td>1657.169646</td>\n",
       "      <td>67.654469</td>\n",
       "      <td>...</td>\n",
       "      <td>45.033197</td>\n",
       "      <td>227.850294</td>\n",
       "      <td>1666.049900</td>\n",
       "      <td>-42.931459</td>\n",
       "      <td>ABC</td>\n",
       "      <td>Medium</td>\n",
       "      <td>2.719475</td>\n",
       "      <td>0.302321</td>\n",
       "      <td>27.366127</td>\n",
       "      <td>2.874342</td>\n",
       "    </tr>\n",
       "    <tr>\n",
       "      <th>3</th>\n",
       "      <td>WM_6757</td>\n",
       "      <td>2018-12-25 15:33:20</td>\n",
       "      <td>238.819424</td>\n",
       "      <td>-99.000000</td>\n",
       "      <td>45.443914</td>\n",
       "      <td>15.115323</td>\n",
       "      <td>44.759643</td>\n",
       "      <td>47.282101</td>\n",
       "      <td>2888.134079</td>\n",
       "      <td>95.389974</td>\n",
       "      <td>...</td>\n",
       "      <td>44.827154</td>\n",
       "      <td>492.081520</td>\n",
       "      <td>1964.502895</td>\n",
       "      <td>42.744596</td>\n",
       "      <td>ABC</td>\n",
       "      <td>NaN</td>\n",
       "      <td>4.857385</td>\n",
       "      <td>0.367140</td>\n",
       "      <td>24.287767</td>\n",
       "      <td>14.851089</td>\n",
       "    </tr>\n",
       "    <tr>\n",
       "      <th>4</th>\n",
       "      <td>WM_21521</td>\n",
       "      <td>2019-05-04 03:13:20</td>\n",
       "      <td>10.722890</td>\n",
       "      <td>NaN</td>\n",
       "      <td>41.981183</td>\n",
       "      <td>1.715696</td>\n",
       "      <td>-17.616459</td>\n",
       "      <td>43.469852</td>\n",
       "      <td>781.695419</td>\n",
       "      <td>37.423065</td>\n",
       "      <td>...</td>\n",
       "      <td>-99.000000</td>\n",
       "      <td>259.274601</td>\n",
       "      <td>1177.516152</td>\n",
       "      <td>13.387289</td>\n",
       "      <td>AAA</td>\n",
       "      <td>Medium</td>\n",
       "      <td>NaN</td>\n",
       "      <td>0.453374</td>\n",
       "      <td>27.971650</td>\n",
       "      <td>3.519074</td>\n",
       "    </tr>\n",
       "  </tbody>\n",
       "</table>\n",
       "<p>5 rows × 22 columns</p>\n",
       "</div>"
      ],
      "text/plain": [
       "  tracking_id             datetime  wind_speed(m/s)  \\\n",
       "0    WM_33725  2019-08-04 14:33:20        94.820023   \n",
       "1      WM_698  2018-11-05 10:13:20       241.832734   \n",
       "2    WM_39146  2019-09-14 14:03:20        95.484724   \n",
       "3     WM_6757  2018-12-25 15:33:20       238.819424   \n",
       "4    WM_21521  2019-05-04 03:13:20        10.722890   \n",
       "\n",
       "   atmospheric_temperature(°C)  shaft_temperature(°C)  blades_angle(°)  \\\n",
       "0                   -99.000000              41.723019        -0.903423   \n",
       "1                    27.764785             -99.000000       -99.000000   \n",
       "2                          NaN              41.855473        12.652763   \n",
       "3                   -99.000000              45.443914        15.115323   \n",
       "4                          NaN              41.981183         1.715696   \n",
       "\n",
       "   gearbox_temperature(°C)  engine_temperature(°C)  motor_torque(N-m)  \\\n",
       "0                82.410573               42.523015        2563.124522   \n",
       "1                44.104919               46.258870        2372.384119   \n",
       "2                42.322098               42.878552        1657.169646   \n",
       "3                44.759643               47.282101        2888.134079   \n",
       "4               -17.616459               43.469852         781.695419   \n",
       "\n",
       "   generator_temperature(°C)  ...  windmill_body_temperature(°C)  \\\n",
       "0                  76.665560  ...                            NaN   \n",
       "1                  78.129803  ...                            NaN   \n",
       "2                  67.654469  ...                      45.033197   \n",
       "3                  95.389974  ...                      44.827154   \n",
       "4                  37.423065  ...                     -99.000000   \n",
       "\n",
       "   wind_direction(°)  resistance(ohm)  rotor_torque(N-m)  turbine_status  \\\n",
       "0         239.836388      2730.310605          42.084666              BA   \n",
       "1         337.944723      1780.207200         107.888643              A2   \n",
       "2         227.850294      1666.049900         -42.931459             ABC   \n",
       "3         492.081520      1964.502895          42.744596             ABC   \n",
       "4         259.274601      1177.516152          13.387289             AAA   \n",
       "\n",
       "   cloud_level blade_length(m) blade_breadth(m)  windmill_height(m)  \\\n",
       "0       Medium        2.217542         0.314065           24.281689   \n",
       "1       Medium        4.210346         0.448494           27.262139   \n",
       "2       Medium        2.719475         0.302321           27.366127   \n",
       "3          NaN        4.857385         0.367140           24.287767   \n",
       "4       Medium             NaN         0.453374           27.971650   \n",
       "\n",
       "   windmill_generated_power(kW/h)  \n",
       "0                        6.766521  \n",
       "1                        5.966275  \n",
       "2                        2.874342  \n",
       "3                       14.851089  \n",
       "4                        3.519074  \n",
       "\n",
       "[5 rows x 22 columns]"
      ]
     },
     "execution_count": 3,
     "metadata": {},
     "output_type": "execute_result"
    }
   ],
   "source": [
    "df1.head()"
   ]
  },
  {
   "cell_type": "code",
   "execution_count": 4,
   "id": "a7cca1c9",
   "metadata": {},
   "outputs": [
    {
     "name": "stdout",
     "output_type": "stream",
     "text": [
      "<class 'pandas.core.frame.DataFrame'>\n",
      "RangeIndex: 28200 entries, 0 to 28199\n",
      "Data columns (total 22 columns):\n",
      " #   Column                          Non-Null Count  Dtype  \n",
      "---  ------                          --------------  -----  \n",
      " 0   tracking_id                     28200 non-null  object \n",
      " 1   datetime                        28200 non-null  object \n",
      " 2   wind_speed(m/s)                 27927 non-null  float64\n",
      " 3   atmospheric_temperature(°C)     24750 non-null  float64\n",
      " 4   shaft_temperature(°C)           28198 non-null  float64\n",
      " 5   blades_angle(°)                 27984 non-null  float64\n",
      " 6   gearbox_temperature(°C)         28199 non-null  float64\n",
      " 7   engine_temperature(°C)          28188 non-null  float64\n",
      " 8   motor_torque(N-m)               28176 non-null  float64\n",
      " 9   generator_temperature(°C)       28188 non-null  float64\n",
      " 10  atmospheric_pressure(Pascal)    25493 non-null  float64\n",
      " 11  area_temperature(°C)            28200 non-null  float64\n",
      " 12  windmill_body_temperature(°C)   25837 non-null  float64\n",
      " 13  wind_direction(°)               23097 non-null  float64\n",
      " 14  resistance(ohm)                 28199 non-null  float64\n",
      " 15  rotor_torque(N-m)               27628 non-null  float64\n",
      " 16  turbine_status                  26441 non-null  object \n",
      " 17  cloud_level                     27924 non-null  object \n",
      " 18  blade_length(m)                 23107 non-null  float64\n",
      " 19  blade_breadth(m)                28200 non-null  float64\n",
      " 20  windmill_height(m)              27657 non-null  float64\n",
      " 21  windmill_generated_power(kW/h)  27993 non-null  float64\n",
      "dtypes: float64(18), object(4)\n",
      "memory usage: 4.7+ MB\n"
     ]
    }
   ],
   "source": [
    "df1.info()"
   ]
  },
  {
   "cell_type": "code",
   "execution_count": 5,
   "id": "b6e0233b",
   "metadata": {},
   "outputs": [
    {
     "data": {
      "text/html": [
       "<div>\n",
       "<style scoped>\n",
       "    .dataframe tbody tr th:only-of-type {\n",
       "        vertical-align: middle;\n",
       "    }\n",
       "\n",
       "    .dataframe tbody tr th {\n",
       "        vertical-align: top;\n",
       "    }\n",
       "\n",
       "    .dataframe thead th {\n",
       "        text-align: right;\n",
       "    }\n",
       "</style>\n",
       "<table border=\"1\" class=\"dataframe\">\n",
       "  <thead>\n",
       "    <tr style=\"text-align: right;\">\n",
       "      <th></th>\n",
       "      <th>wind_speed(m/s)</th>\n",
       "      <th>atmospheric_temperature(°C)</th>\n",
       "      <th>shaft_temperature(°C)</th>\n",
       "      <th>blades_angle(°)</th>\n",
       "      <th>gearbox_temperature(°C)</th>\n",
       "      <th>engine_temperature(°C)</th>\n",
       "      <th>motor_torque(N-m)</th>\n",
       "      <th>generator_temperature(°C)</th>\n",
       "      <th>atmospheric_pressure(Pascal)</th>\n",
       "      <th>area_temperature(°C)</th>\n",
       "      <th>windmill_body_temperature(°C)</th>\n",
       "      <th>wind_direction(°)</th>\n",
       "      <th>resistance(ohm)</th>\n",
       "      <th>rotor_torque(N-m)</th>\n",
       "      <th>blade_length(m)</th>\n",
       "      <th>blade_breadth(m)</th>\n",
       "      <th>windmill_height(m)</th>\n",
       "      <th>windmill_generated_power(kW/h)</th>\n",
       "    </tr>\n",
       "  </thead>\n",
       "  <tbody>\n",
       "    <tr>\n",
       "      <th>count</th>\n",
       "      <td>27927.000000</td>\n",
       "      <td>24750.000000</td>\n",
       "      <td>28198.000000</td>\n",
       "      <td>27984.000000</td>\n",
       "      <td>28199.000000</td>\n",
       "      <td>28188.000000</td>\n",
       "      <td>28176.000000</td>\n",
       "      <td>28188.000000</td>\n",
       "      <td>2.549300e+04</td>\n",
       "      <td>28200.000000</td>\n",
       "      <td>25837.000000</td>\n",
       "      <td>23097.000000</td>\n",
       "      <td>28199.000000</td>\n",
       "      <td>27628.000000</td>\n",
       "      <td>23107.000000</td>\n",
       "      <td>28200.000000</td>\n",
       "      <td>27657.000000</td>\n",
       "      <td>27993.000000</td>\n",
       "    </tr>\n",
       "    <tr>\n",
       "      <th>mean</th>\n",
       "      <td>69.037071</td>\n",
       "      <td>0.383727</td>\n",
       "      <td>40.085387</td>\n",
       "      <td>-9.654038</td>\n",
       "      <td>41.027755</td>\n",
       "      <td>42.614239</td>\n",
       "      <td>1710.819803</td>\n",
       "      <td>65.027857</td>\n",
       "      <td>5.318506e+04</td>\n",
       "      <td>32.735091</td>\n",
       "      <td>20.799761</td>\n",
       "      <td>306.888883</td>\n",
       "      <td>1575.560011</td>\n",
       "      <td>25.849894</td>\n",
       "      <td>2.254034</td>\n",
       "      <td>0.397249</td>\n",
       "      <td>25.887052</td>\n",
       "      <td>6.130529</td>\n",
       "    </tr>\n",
       "    <tr>\n",
       "      <th>std</th>\n",
       "      <td>76.275645</td>\n",
       "      <td>44.278534</td>\n",
       "      <td>27.204430</td>\n",
       "      <td>47.918161</td>\n",
       "      <td>43.663605</td>\n",
       "      <td>6.124546</td>\n",
       "      <td>827.205537</td>\n",
       "      <td>19.816499</td>\n",
       "      <td>1.875036e+05</td>\n",
       "      <td>7.703391</td>\n",
       "      <td>54.356431</td>\n",
       "      <td>134.055900</td>\n",
       "      <td>483.326394</td>\n",
       "      <td>32.423943</td>\n",
       "      <td>11.275602</td>\n",
       "      <td>0.061158</td>\n",
       "      <td>7.773609</td>\n",
       "      <td>2.697520</td>\n",
       "    </tr>\n",
       "    <tr>\n",
       "      <th>min</th>\n",
       "      <td>-496.211029</td>\n",
       "      <td>-99.000000</td>\n",
       "      <td>-99.000000</td>\n",
       "      <td>-146.259543</td>\n",
       "      <td>-244.974098</td>\n",
       "      <td>3.167151</td>\n",
       "      <td>500.000000</td>\n",
       "      <td>33.893779</td>\n",
       "      <td>-1.188624e+06</td>\n",
       "      <td>-30.000000</td>\n",
       "      <td>-999.000000</td>\n",
       "      <td>0.000000</td>\n",
       "      <td>-1005.222988</td>\n",
       "      <td>-136.732217</td>\n",
       "      <td>-99.000000</td>\n",
       "      <td>0.200111</td>\n",
       "      <td>-30.295253</td>\n",
       "      <td>0.962305</td>\n",
       "    </tr>\n",
       "    <tr>\n",
       "      <th>25%</th>\n",
       "      <td>20.883502</td>\n",
       "      <td>7.948900</td>\n",
       "      <td>41.633238</td>\n",
       "      <td>-1.197652</td>\n",
       "      <td>40.557952</td>\n",
       "      <td>41.911365</td>\n",
       "      <td>870.340239</td>\n",
       "      <td>41.198509</td>\n",
       "      <td>1.679492e+04</td>\n",
       "      <td>27.311644</td>\n",
       "      <td>40.448386</td>\n",
       "      <td>238.627752</td>\n",
       "      <td>1268.134043</td>\n",
       "      <td>13.722808</td>\n",
       "      <td>2.544859</td>\n",
       "      <td>0.347445</td>\n",
       "      <td>24.447658</td>\n",
       "      <td>4.059505</td>\n",
       "    </tr>\n",
       "    <tr>\n",
       "      <th>50%</th>\n",
       "      <td>93.302129</td>\n",
       "      <td>16.102410</td>\n",
       "      <td>43.686082</td>\n",
       "      <td>-0.495608</td>\n",
       "      <td>43.221735</td>\n",
       "      <td>43.525297</td>\n",
       "      <td>2031.849540</td>\n",
       "      <td>70.729533</td>\n",
       "      <td>1.819113e+04</td>\n",
       "      <td>32.605195</td>\n",
       "      <td>42.786832</td>\n",
       "      <td>271.427656</td>\n",
       "      <td>1678.238404</td>\n",
       "      <td>32.977192</td>\n",
       "      <td>3.453333</td>\n",
       "      <td>0.398591</td>\n",
       "      <td>25.957739</td>\n",
       "      <td>5.764710</td>\n",
       "    </tr>\n",
       "    <tr>\n",
       "      <th>75%</th>\n",
       "      <td>95.268058</td>\n",
       "      <td>23.687285</td>\n",
       "      <td>45.673685</td>\n",
       "      <td>5.495030</td>\n",
       "      <td>45.879425</td>\n",
       "      <td>45.174246</td>\n",
       "      <td>2462.585729</td>\n",
       "      <td>78.945849</td>\n",
       "      <td>1.181133e+05</td>\n",
       "      <td>38.232387</td>\n",
       "      <td>44.494543</td>\n",
       "      <td>404.153517</td>\n",
       "      <td>1829.054007</td>\n",
       "      <td>41.550520</td>\n",
       "      <td>4.357862</td>\n",
       "      <td>0.449354</td>\n",
       "      <td>27.477854</td>\n",
       "      <td>7.947195</td>\n",
       "    </tr>\n",
       "    <tr>\n",
       "      <th>max</th>\n",
       "      <td>601.455670</td>\n",
       "      <td>80.217444</td>\n",
       "      <td>169.820455</td>\n",
       "      <td>165.932123</td>\n",
       "      <td>999.000000</td>\n",
       "      <td>50.000000</td>\n",
       "      <td>3000.000000</td>\n",
       "      <td>100.000000</td>\n",
       "      <td>1.272552e+06</td>\n",
       "      <td>55.000000</td>\n",
       "      <td>323.000000</td>\n",
       "      <td>569.966479</td>\n",
       "      <td>4693.481933</td>\n",
       "      <td>236.883264</td>\n",
       "      <td>18.209800</td>\n",
       "      <td>0.499975</td>\n",
       "      <td>78.351335</td>\n",
       "      <td>20.175358</td>\n",
       "    </tr>\n",
       "  </tbody>\n",
       "</table>\n",
       "</div>"
      ],
      "text/plain": [
       "       wind_speed(m/s)  atmospheric_temperature(°C)  shaft_temperature(°C)  \\\n",
       "count     27927.000000                 24750.000000           28198.000000   \n",
       "mean         69.037071                     0.383727              40.085387   \n",
       "std          76.275645                    44.278534              27.204430   \n",
       "min        -496.211029                   -99.000000             -99.000000   \n",
       "25%          20.883502                     7.948900              41.633238   \n",
       "50%          93.302129                    16.102410              43.686082   \n",
       "75%          95.268058                    23.687285              45.673685   \n",
       "max         601.455670                    80.217444             169.820455   \n",
       "\n",
       "       blades_angle(°)  gearbox_temperature(°C)  engine_temperature(°C)  \\\n",
       "count     27984.000000             28199.000000            28188.000000   \n",
       "mean         -9.654038                41.027755               42.614239   \n",
       "std          47.918161                43.663605                6.124546   \n",
       "min        -146.259543              -244.974098                3.167151   \n",
       "25%          -1.197652                40.557952               41.911365   \n",
       "50%          -0.495608                43.221735               43.525297   \n",
       "75%           5.495030                45.879425               45.174246   \n",
       "max         165.932123               999.000000               50.000000   \n",
       "\n",
       "       motor_torque(N-m)  generator_temperature(°C)  \\\n",
       "count       28176.000000               28188.000000   \n",
       "mean         1710.819803                  65.027857   \n",
       "std           827.205537                  19.816499   \n",
       "min           500.000000                  33.893779   \n",
       "25%           870.340239                  41.198509   \n",
       "50%          2031.849540                  70.729533   \n",
       "75%          2462.585729                  78.945849   \n",
       "max          3000.000000                 100.000000   \n",
       "\n",
       "       atmospheric_pressure(Pascal)  area_temperature(°C)  \\\n",
       "count                  2.549300e+04          28200.000000   \n",
       "mean                   5.318506e+04             32.735091   \n",
       "std                    1.875036e+05              7.703391   \n",
       "min                   -1.188624e+06            -30.000000   \n",
       "25%                    1.679492e+04             27.311644   \n",
       "50%                    1.819113e+04             32.605195   \n",
       "75%                    1.181133e+05             38.232387   \n",
       "max                    1.272552e+06             55.000000   \n",
       "\n",
       "       windmill_body_temperature(°C)  wind_direction(°)  resistance(ohm)  \\\n",
       "count                   25837.000000       23097.000000     28199.000000   \n",
       "mean                       20.799761         306.888883      1575.560011   \n",
       "std                        54.356431         134.055900       483.326394   \n",
       "min                      -999.000000           0.000000     -1005.222988   \n",
       "25%                        40.448386         238.627752      1268.134043   \n",
       "50%                        42.786832         271.427656      1678.238404   \n",
       "75%                        44.494543         404.153517      1829.054007   \n",
       "max                       323.000000         569.966479      4693.481933   \n",
       "\n",
       "       rotor_torque(N-m)  blade_length(m)  blade_breadth(m)  \\\n",
       "count       27628.000000     23107.000000      28200.000000   \n",
       "mean           25.849894         2.254034          0.397249   \n",
       "std            32.423943        11.275602          0.061158   \n",
       "min          -136.732217       -99.000000          0.200111   \n",
       "25%            13.722808         2.544859          0.347445   \n",
       "50%            32.977192         3.453333          0.398591   \n",
       "75%            41.550520         4.357862          0.449354   \n",
       "max           236.883264        18.209800          0.499975   \n",
       "\n",
       "       windmill_height(m)  windmill_generated_power(kW/h)  \n",
       "count        27657.000000                    27993.000000  \n",
       "mean            25.887052                        6.130529  \n",
       "std              7.773609                        2.697520  \n",
       "min            -30.295253                        0.962305  \n",
       "25%             24.447658                        4.059505  \n",
       "50%             25.957739                        5.764710  \n",
       "75%             27.477854                        7.947195  \n",
       "max             78.351335                       20.175358  "
      ]
     },
     "execution_count": 5,
     "metadata": {},
     "output_type": "execute_result"
    }
   ],
   "source": [
    "df1.describe()"
   ]
  },
  {
   "cell_type": "code",
   "execution_count": 6,
   "id": "7d14c0ad",
   "metadata": {},
   "outputs": [
    {
     "data": {
      "text/html": [
       "<div>\n",
       "<style scoped>\n",
       "    .dataframe tbody tr th:only-of-type {\n",
       "        vertical-align: middle;\n",
       "    }\n",
       "\n",
       "    .dataframe tbody tr th {\n",
       "        vertical-align: top;\n",
       "    }\n",
       "\n",
       "    .dataframe thead th {\n",
       "        text-align: right;\n",
       "    }\n",
       "</style>\n",
       "<table border=\"1\" class=\"dataframe\">\n",
       "  <thead>\n",
       "    <tr style=\"text-align: right;\">\n",
       "      <th></th>\n",
       "      <th>tracking_id</th>\n",
       "      <th>datetime</th>\n",
       "      <th>wind_speed(m/s)</th>\n",
       "      <th>atmospheric_temperature(°C)</th>\n",
       "      <th>shaft_temperature(°C)</th>\n",
       "      <th>blades_angle(°)</th>\n",
       "      <th>gearbox_temperature(°C)</th>\n",
       "      <th>engine_temperature(°C)</th>\n",
       "      <th>motor_torque(N-m)</th>\n",
       "      <th>generator_temperature(°C)</th>\n",
       "      <th>...</th>\n",
       "      <th>area_temperature(°C)</th>\n",
       "      <th>windmill_body_temperature(°C)</th>\n",
       "      <th>wind_direction(°)</th>\n",
       "      <th>resistance(ohm)</th>\n",
       "      <th>rotor_torque(N-m)</th>\n",
       "      <th>turbine_status</th>\n",
       "      <th>cloud_level</th>\n",
       "      <th>blade_length(m)</th>\n",
       "      <th>blade_breadth(m)</th>\n",
       "      <th>windmill_height(m)</th>\n",
       "    </tr>\n",
       "  </thead>\n",
       "  <tbody>\n",
       "    <tr>\n",
       "      <th>0</th>\n",
       "      <td>WM_19817</td>\n",
       "      <td>2019-04-17 08:53:20</td>\n",
       "      <td>94.324266</td>\n",
       "      <td>17.641186</td>\n",
       "      <td>89.714193</td>\n",
       "      <td>51.146788</td>\n",
       "      <td>40.460560</td>\n",
       "      <td>39.594734</td>\n",
       "      <td>1073.202715</td>\n",
       "      <td>66.830037</td>\n",
       "      <td>...</td>\n",
       "      <td>24.004812</td>\n",
       "      <td>43.756693</td>\n",
       "      <td>445.976992</td>\n",
       "      <td>1664.222023</td>\n",
       "      <td>21.912243</td>\n",
       "      <td>BA</td>\n",
       "      <td>Medium</td>\n",
       "      <td>3.185837</td>\n",
       "      <td>0.403965</td>\n",
       "      <td>25.572431</td>\n",
       "    </tr>\n",
       "    <tr>\n",
       "      <th>1</th>\n",
       "      <td>WM_18723</td>\n",
       "      <td>2019-03-30 07:43:20</td>\n",
       "      <td>10.088870</td>\n",
       "      <td>13.978119</td>\n",
       "      <td>43.272846</td>\n",
       "      <td>46.516394</td>\n",
       "      <td>40.027788</td>\n",
       "      <td>41.176860</td>\n",
       "      <td>517.436430</td>\n",
       "      <td>37.284163</td>\n",
       "      <td>...</td>\n",
       "      <td>29.431813</td>\n",
       "      <td>42.728174</td>\n",
       "      <td>499.595287</td>\n",
       "      <td>1165.111992</td>\n",
       "      <td>-35.050093</td>\n",
       "      <td>A</td>\n",
       "      <td>Medium</td>\n",
       "      <td>3.016603</td>\n",
       "      <td>0.444755</td>\n",
       "      <td>24.371823</td>\n",
       "    </tr>\n",
       "    <tr>\n",
       "      <th>2</th>\n",
       "      <td>WM_34552</td>\n",
       "      <td>2019-08-10 11:33:20</td>\n",
       "      <td>347.152090</td>\n",
       "      <td>31.423035</td>\n",
       "      <td>41.076640</td>\n",
       "      <td>26.931602</td>\n",
       "      <td>43.109122</td>\n",
       "      <td>43.439556</td>\n",
       "      <td>1480.716492</td>\n",
       "      <td>70.010762</td>\n",
       "      <td>...</td>\n",
       "      <td>29.924235</td>\n",
       "      <td>43.256122</td>\n",
       "      <td>245.432231</td>\n",
       "      <td>1667.720491</td>\n",
       "      <td>27.195302</td>\n",
       "      <td>B2</td>\n",
       "      <td>Medium</td>\n",
       "      <td>2.611941</td>\n",
       "      <td>0.387368</td>\n",
       "      <td>27.654677</td>\n",
       "    </tr>\n",
       "    <tr>\n",
       "      <th>3</th>\n",
       "      <td>WM_28570</td>\n",
       "      <td>2019-06-26 03:53:20</td>\n",
       "      <td>24.471997</td>\n",
       "      <td>-99.000000</td>\n",
       "      <td>14.375078</td>\n",
       "      <td>66.513953</td>\n",
       "      <td>13.741253</td>\n",
       "      <td>15.577472</td>\n",
       "      <td>887.979475</td>\n",
       "      <td>41.445258</td>\n",
       "      <td>...</td>\n",
       "      <td>23.886434</td>\n",
       "      <td>13.501595</td>\n",
       "      <td>NaN</td>\n",
       "      <td>1329.744740</td>\n",
       "      <td>15.245757</td>\n",
       "      <td>BBB</td>\n",
       "      <td>Low</td>\n",
       "      <td>2.866805</td>\n",
       "      <td>0.450478</td>\n",
       "      <td>24.189426</td>\n",
       "    </tr>\n",
       "    <tr>\n",
       "      <th>4</th>\n",
       "      <td>WM_36934</td>\n",
       "      <td>2019-08-27 16:43:20</td>\n",
       "      <td>96.997026</td>\n",
       "      <td>33.281836</td>\n",
       "      <td>41.405192</td>\n",
       "      <td>1.843112</td>\n",
       "      <td>121.572907</td>\n",
       "      <td>43.934587</td>\n",
       "      <td>2053.916354</td>\n",
       "      <td>68.007787</td>\n",
       "      <td>...</td>\n",
       "      <td>35.906889</td>\n",
       "      <td>-99.000000</td>\n",
       "      <td>442.425744</td>\n",
       "      <td>691.408996</td>\n",
       "      <td>34.257024</td>\n",
       "      <td>A</td>\n",
       "      <td>Low</td>\n",
       "      <td>3.549672</td>\n",
       "      <td>0.368355</td>\n",
       "      <td>4.885440</td>\n",
       "    </tr>\n",
       "  </tbody>\n",
       "</table>\n",
       "<p>5 rows × 21 columns</p>\n",
       "</div>"
      ],
      "text/plain": [
       "  tracking_id             datetime  wind_speed(m/s)  \\\n",
       "0    WM_19817  2019-04-17 08:53:20        94.324266   \n",
       "1    WM_18723  2019-03-30 07:43:20        10.088870   \n",
       "2    WM_34552  2019-08-10 11:33:20       347.152090   \n",
       "3    WM_28570  2019-06-26 03:53:20        24.471997   \n",
       "4    WM_36934  2019-08-27 16:43:20        96.997026   \n",
       "\n",
       "   atmospheric_temperature(°C)  shaft_temperature(°C)  blades_angle(°)  \\\n",
       "0                    17.641186              89.714193        51.146788   \n",
       "1                    13.978119              43.272846        46.516394   \n",
       "2                    31.423035              41.076640        26.931602   \n",
       "3                   -99.000000              14.375078        66.513953   \n",
       "4                    33.281836              41.405192         1.843112   \n",
       "\n",
       "   gearbox_temperature(°C)  engine_temperature(°C)  motor_torque(N-m)  \\\n",
       "0                40.460560               39.594734        1073.202715   \n",
       "1                40.027788               41.176860         517.436430   \n",
       "2                43.109122               43.439556        1480.716492   \n",
       "3                13.741253               15.577472         887.979475   \n",
       "4               121.572907               43.934587        2053.916354   \n",
       "\n",
       "   generator_temperature(°C)  ...  area_temperature(°C)  \\\n",
       "0                  66.830037  ...             24.004812   \n",
       "1                  37.284163  ...             29.431813   \n",
       "2                  70.010762  ...             29.924235   \n",
       "3                  41.445258  ...             23.886434   \n",
       "4                  68.007787  ...             35.906889   \n",
       "\n",
       "   windmill_body_temperature(°C)  wind_direction(°)  resistance(ohm)  \\\n",
       "0                      43.756693         445.976992      1664.222023   \n",
       "1                      42.728174         499.595287      1165.111992   \n",
       "2                      43.256122         245.432231      1667.720491   \n",
       "3                      13.501595                NaN      1329.744740   \n",
       "4                     -99.000000         442.425744       691.408996   \n",
       "\n",
       "   rotor_torque(N-m)  turbine_status cloud_level blade_length(m)  \\\n",
       "0          21.912243              BA      Medium        3.185837   \n",
       "1         -35.050093               A      Medium        3.016603   \n",
       "2          27.195302              B2      Medium        2.611941   \n",
       "3          15.245757             BBB         Low        2.866805   \n",
       "4          34.257024               A         Low        3.549672   \n",
       "\n",
       "   blade_breadth(m)  windmill_height(m)  \n",
       "0          0.403965           25.572431  \n",
       "1          0.444755           24.371823  \n",
       "2          0.387368           27.654677  \n",
       "3          0.450478           24.189426  \n",
       "4          0.368355            4.885440  \n",
       "\n",
       "[5 rows x 21 columns]"
      ]
     },
     "execution_count": 6,
     "metadata": {},
     "output_type": "execute_result"
    }
   ],
   "source": [
    "df2.head()"
   ]
  },
  {
   "cell_type": "code",
   "execution_count": 7,
   "id": "4d2466a0",
   "metadata": {},
   "outputs": [
    {
     "name": "stdout",
     "output_type": "stream",
     "text": [
      "<class 'pandas.core.frame.DataFrame'>\n",
      "RangeIndex: 12086 entries, 0 to 12085\n",
      "Data columns (total 21 columns):\n",
      " #   Column                         Non-Null Count  Dtype  \n",
      "---  ------                         --------------  -----  \n",
      " 0   tracking_id                    12086 non-null  object \n",
      " 1   datetime                       12086 non-null  object \n",
      " 2   wind_speed(m/s)                11960 non-null  float64\n",
      " 3   atmospheric_temperature(°C)    10659 non-null  float64\n",
      " 4   shaft_temperature(°C)          12085 non-null  float64\n",
      " 5   blades_angle(°)                11980 non-null  float64\n",
      " 6   gearbox_temperature(°C)        12085 non-null  float64\n",
      " 7   engine_temperature(°C)         12081 non-null  float64\n",
      " 8   motor_torque(N-m)              12075 non-null  float64\n",
      " 9   generator_temperature(°C)      12081 non-null  float64\n",
      " 10  atmospheric_pressure(Pascal)   10935 non-null  float64\n",
      " 11  area_temperature(°C)           12085 non-null  float64\n",
      " 12  windmill_body_temperature(°C)  11160 non-null  float64\n",
      " 13  wind_direction(°)              9926 non-null   float64\n",
      " 14  resistance(ohm)                12086 non-null  float64\n",
      " 15  rotor_torque(N-m)              11805 non-null  float64\n",
      " 16  turbine_status                 11289 non-null  object \n",
      " 17  cloud_level                    11961 non-null  object \n",
      " 18  blade_length(m)                9972 non-null   float64\n",
      " 19  blade_breadth(m)               12086 non-null  float64\n",
      " 20  windmill_height(m)             11831 non-null  float64\n",
      "dtypes: float64(17), object(4)\n",
      "memory usage: 1.9+ MB\n"
     ]
    }
   ],
   "source": [
    "df2.info()"
   ]
  },
  {
   "cell_type": "code",
   "execution_count": 8,
   "id": "411d45a8",
   "metadata": {
    "scrolled": true
   },
   "outputs": [
    {
     "data": {
      "text/html": [
       "<div>\n",
       "<style scoped>\n",
       "    .dataframe tbody tr th:only-of-type {\n",
       "        vertical-align: middle;\n",
       "    }\n",
       "\n",
       "    .dataframe tbody tr th {\n",
       "        vertical-align: top;\n",
       "    }\n",
       "\n",
       "    .dataframe thead th {\n",
       "        text-align: right;\n",
       "    }\n",
       "</style>\n",
       "<table border=\"1\" class=\"dataframe\">\n",
       "  <thead>\n",
       "    <tr style=\"text-align: right;\">\n",
       "      <th></th>\n",
       "      <th>wind_speed(m/s)</th>\n",
       "      <th>atmospheric_temperature(°C)</th>\n",
       "      <th>shaft_temperature(°C)</th>\n",
       "      <th>blades_angle(°)</th>\n",
       "      <th>gearbox_temperature(°C)</th>\n",
       "      <th>engine_temperature(°C)</th>\n",
       "      <th>motor_torque(N-m)</th>\n",
       "      <th>generator_temperature(°C)</th>\n",
       "      <th>atmospheric_pressure(Pascal)</th>\n",
       "      <th>area_temperature(°C)</th>\n",
       "      <th>windmill_body_temperature(°C)</th>\n",
       "      <th>wind_direction(°)</th>\n",
       "      <th>resistance(ohm)</th>\n",
       "      <th>rotor_torque(N-m)</th>\n",
       "      <th>blade_length(m)</th>\n",
       "      <th>blade_breadth(m)</th>\n",
       "      <th>windmill_height(m)</th>\n",
       "    </tr>\n",
       "  </thead>\n",
       "  <tbody>\n",
       "    <tr>\n",
       "      <th>count</th>\n",
       "      <td>11960.000000</td>\n",
       "      <td>10659.000000</td>\n",
       "      <td>12085.000000</td>\n",
       "      <td>11980.000000</td>\n",
       "      <td>12085.000000</td>\n",
       "      <td>12081.000000</td>\n",
       "      <td>12075.000000</td>\n",
       "      <td>12081.000000</td>\n",
       "      <td>1.093500e+04</td>\n",
       "      <td>12085.000000</td>\n",
       "      <td>11160.000000</td>\n",
       "      <td>9926.000000</td>\n",
       "      <td>12086.000000</td>\n",
       "      <td>11805.000000</td>\n",
       "      <td>9972.000000</td>\n",
       "      <td>12086.000000</td>\n",
       "      <td>11831.000000</td>\n",
       "    </tr>\n",
       "    <tr>\n",
       "      <th>mean</th>\n",
       "      <td>69.381862</td>\n",
       "      <td>0.687445</td>\n",
       "      <td>39.936571</td>\n",
       "      <td>-9.218509</td>\n",
       "      <td>40.318639</td>\n",
       "      <td>42.604738</td>\n",
       "      <td>1717.343991</td>\n",
       "      <td>65.237894</td>\n",
       "      <td>5.428332e+04</td>\n",
       "      <td>32.796168</td>\n",
       "      <td>20.906469</td>\n",
       "      <td>308.376140</td>\n",
       "      <td>1581.289398</td>\n",
       "      <td>26.566581</td>\n",
       "      <td>2.201328</td>\n",
       "      <td>0.397527</td>\n",
       "      <td>25.963743</td>\n",
       "    </tr>\n",
       "    <tr>\n",
       "      <th>std</th>\n",
       "      <td>76.119487</td>\n",
       "      <td>44.051104</td>\n",
       "      <td>27.114499</td>\n",
       "      <td>47.574365</td>\n",
       "      <td>42.481822</td>\n",
       "      <td>6.215124</td>\n",
       "      <td>829.809203</td>\n",
       "      <td>19.868135</td>\n",
       "      <td>1.872562e+05</td>\n",
       "      <td>7.671919</td>\n",
       "      <td>53.291337</td>\n",
       "      <td>133.923293</td>\n",
       "      <td>483.125121</td>\n",
       "      <td>32.103827</td>\n",
       "      <td>11.513251</td>\n",
       "      <td>0.061661</td>\n",
       "      <td>7.716063</td>\n",
       "    </tr>\n",
       "    <tr>\n",
       "      <th>min</th>\n",
       "      <td>-525.530600</td>\n",
       "      <td>-99.000000</td>\n",
       "      <td>-99.000000</td>\n",
       "      <td>-99.000000</td>\n",
       "      <td>-185.860883</td>\n",
       "      <td>-5.000000</td>\n",
       "      <td>500.000000</td>\n",
       "      <td>30.000000</td>\n",
       "      <td>-1.207259e+06</td>\n",
       "      <td>-30.000000</td>\n",
       "      <td>-99.000000</td>\n",
       "      <td>0.000000</td>\n",
       "      <td>-1654.449587</td>\n",
       "      <td>-182.169613</td>\n",
       "      <td>-99.000000</td>\n",
       "      <td>0.200009</td>\n",
       "      <td>-21.215639</td>\n",
       "    </tr>\n",
       "    <tr>\n",
       "      <th>25%</th>\n",
       "      <td>21.809823</td>\n",
       "      <td>8.118199</td>\n",
       "      <td>41.635406</td>\n",
       "      <td>-1.191777</td>\n",
       "      <td>40.460379</td>\n",
       "      <td>41.925716</td>\n",
       "      <td>874.238660</td>\n",
       "      <td>41.283334</td>\n",
       "      <td>1.679650e+04</td>\n",
       "      <td>27.406656</td>\n",
       "      <td>40.366937</td>\n",
       "      <td>238.782318</td>\n",
       "      <td>1272.310773</td>\n",
       "      <td>13.760163</td>\n",
       "      <td>2.520990</td>\n",
       "      <td>0.346909</td>\n",
       "      <td>24.452970</td>\n",
       "    </tr>\n",
       "    <tr>\n",
       "      <th>50%</th>\n",
       "      <td>93.338083</td>\n",
       "      <td>16.177184</td>\n",
       "      <td>43.707769</td>\n",
       "      <td>-0.497108</td>\n",
       "      <td>43.219752</td>\n",
       "      <td>43.553196</td>\n",
       "      <td>2032.285162</td>\n",
       "      <td>70.797759</td>\n",
       "      <td>1.820142e+04</td>\n",
       "      <td>32.658467</td>\n",
       "      <td>42.788389</td>\n",
       "      <td>272.047526</td>\n",
       "      <td>1680.225602</td>\n",
       "      <td>33.090562</td>\n",
       "      <td>3.434327</td>\n",
       "      <td>0.399637</td>\n",
       "      <td>25.950314</td>\n",
       "    </tr>\n",
       "    <tr>\n",
       "      <th>75%</th>\n",
       "      <td>95.251808</td>\n",
       "      <td>23.855116</td>\n",
       "      <td>45.756032</td>\n",
       "      <td>6.232264</td>\n",
       "      <td>45.840152</td>\n",
       "      <td>45.228475</td>\n",
       "      <td>2480.423058</td>\n",
       "      <td>79.432294</td>\n",
       "      <td>1.183212e+05</td>\n",
       "      <td>38.302814</td>\n",
       "      <td>44.506596</td>\n",
       "      <td>408.668722</td>\n",
       "      <td>1837.302026</td>\n",
       "      <td>41.976934</td>\n",
       "      <td>4.342784</td>\n",
       "      <td>0.450488</td>\n",
       "      <td>27.490102</td>\n",
       "    </tr>\n",
       "    <tr>\n",
       "      <th>max</th>\n",
       "      <td>525.434211</td>\n",
       "      <td>80.442232</td>\n",
       "      <td>183.299983</td>\n",
       "      <td>170.047823</td>\n",
       "      <td>563.000000</td>\n",
       "      <td>49.858945</td>\n",
       "      <td>2997.013769</td>\n",
       "      <td>99.571599</td>\n",
       "      <td>1.127571e+06</td>\n",
       "      <td>53.927698</td>\n",
       "      <td>191.979747</td>\n",
       "      <td>570.857751</td>\n",
       "      <td>4106.196001</td>\n",
       "      <td>213.260076</td>\n",
       "      <td>17.847936</td>\n",
       "      <td>0.499985</td>\n",
       "      <td>77.604969</td>\n",
       "    </tr>\n",
       "  </tbody>\n",
       "</table>\n",
       "</div>"
      ],
      "text/plain": [
       "       wind_speed(m/s)  atmospheric_temperature(°C)  shaft_temperature(°C)  \\\n",
       "count     11960.000000                 10659.000000           12085.000000   \n",
       "mean         69.381862                     0.687445              39.936571   \n",
       "std          76.119487                    44.051104              27.114499   \n",
       "min        -525.530600                   -99.000000             -99.000000   \n",
       "25%          21.809823                     8.118199              41.635406   \n",
       "50%          93.338083                    16.177184              43.707769   \n",
       "75%          95.251808                    23.855116              45.756032   \n",
       "max         525.434211                    80.442232             183.299983   \n",
       "\n",
       "       blades_angle(°)  gearbox_temperature(°C)  engine_temperature(°C)  \\\n",
       "count     11980.000000             12085.000000            12081.000000   \n",
       "mean         -9.218509                40.318639               42.604738   \n",
       "std          47.574365                42.481822                6.215124   \n",
       "min         -99.000000              -185.860883               -5.000000   \n",
       "25%          -1.191777                40.460379               41.925716   \n",
       "50%          -0.497108                43.219752               43.553196   \n",
       "75%           6.232264                45.840152               45.228475   \n",
       "max         170.047823               563.000000               49.858945   \n",
       "\n",
       "       motor_torque(N-m)  generator_temperature(°C)  \\\n",
       "count       12075.000000               12081.000000   \n",
       "mean         1717.343991                  65.237894   \n",
       "std           829.809203                  19.868135   \n",
       "min           500.000000                  30.000000   \n",
       "25%           874.238660                  41.283334   \n",
       "50%          2032.285162                  70.797759   \n",
       "75%          2480.423058                  79.432294   \n",
       "max          2997.013769                  99.571599   \n",
       "\n",
       "       atmospheric_pressure(Pascal)  area_temperature(°C)  \\\n",
       "count                  1.093500e+04          12085.000000   \n",
       "mean                   5.428332e+04             32.796168   \n",
       "std                    1.872562e+05              7.671919   \n",
       "min                   -1.207259e+06            -30.000000   \n",
       "25%                    1.679650e+04             27.406656   \n",
       "50%                    1.820142e+04             32.658467   \n",
       "75%                    1.183212e+05             38.302814   \n",
       "max                    1.127571e+06             53.927698   \n",
       "\n",
       "       windmill_body_temperature(°C)  wind_direction(°)  resistance(ohm)  \\\n",
       "count                   11160.000000        9926.000000     12086.000000   \n",
       "mean                       20.906469         308.376140      1581.289398   \n",
       "std                        53.291337         133.923293       483.125121   \n",
       "min                       -99.000000           0.000000     -1654.449587   \n",
       "25%                        40.366937         238.782318      1272.310773   \n",
       "50%                        42.788389         272.047526      1680.225602   \n",
       "75%                        44.506596         408.668722      1837.302026   \n",
       "max                       191.979747         570.857751      4106.196001   \n",
       "\n",
       "       rotor_torque(N-m)  blade_length(m)  blade_breadth(m)  \\\n",
       "count       11805.000000      9972.000000      12086.000000   \n",
       "mean           26.566581         2.201328          0.397527   \n",
       "std            32.103827        11.513251          0.061661   \n",
       "min          -182.169613       -99.000000          0.200009   \n",
       "25%            13.760163         2.520990          0.346909   \n",
       "50%            33.090562         3.434327          0.399637   \n",
       "75%            41.976934         4.342784          0.450488   \n",
       "max           213.260076        17.847936          0.499985   \n",
       "\n",
       "       windmill_height(m)  \n",
       "count        11831.000000  \n",
       "mean            25.963743  \n",
       "std              7.716063  \n",
       "min            -21.215639  \n",
       "25%             24.452970  \n",
       "50%             25.950314  \n",
       "75%             27.490102  \n",
       "max             77.604969  "
      ]
     },
     "execution_count": 8,
     "metadata": {},
     "output_type": "execute_result"
    }
   ],
   "source": [
    "df2.describe()"
   ]
  },
  {
   "cell_type": "code",
   "execution_count": 9,
   "id": "8e71e11f",
   "metadata": {},
   "outputs": [],
   "source": [
    "# sb.pairplot(df1)"
   ]
  },
  {
   "cell_type": "code",
   "execution_count": 10,
   "id": "e4dc2bf6",
   "metadata": {},
   "outputs": [
    {
     "data": {
      "text/plain": [
       "<AxesSubplot:>"
      ]
     },
     "execution_count": 10,
     "metadata": {},
     "output_type": "execute_result"
    },
    {
     "data": {
      "image/png": "[encoded data removed]",
      "text/plain": [
       "<Figure size 1080x1080 with 2 Axes>"
      ]
     },
     "metadata": {
      "needs_background": "light"
     },
     "output_type": "display_data"
    }
   ],
   "source": [
    "corr_matrix = df1.corr()\n",
    "plt.figure(figsize=(15,15))\n",
    "sb.heatmap(corr_matrix, annot=True)"
   ]
  },
  {
   "cell_type": "code",
   "execution_count": 11,
   "id": "8040c931",
   "metadata": {},
   "outputs": [
    {
     "data": {
      "text/plain": [
       "windmill_generated_power(kW/h)    1.000000\n",
       "motor_torque(N-m)                 0.505553\n",
       "generator_temperature(°C)         0.391820\n",
       "area_temperature(°C)              0.384564\n",
       "wind_direction(°)                 0.359647\n",
       "engine_temperature(°C)            0.272597\n",
       "resistance(ohm)                   0.240045\n",
       "rotor_torque(N-m)                 0.187476\n",
       "blade_breadth(m)                  0.085886\n",
       "wind_speed(m/s)                   0.062754\n",
       "gearbox_temperature(°C)           0.053192\n",
       "shaft_temperature(°C)             0.046552\n",
       "blade_length(m)                   0.014294\n",
       "windmill_height(m)                0.003909\n",
       "windmill_body_temperature(°C)     0.003196\n",
       "atmospheric_temperature(°C)      -0.001005\n",
       "atmospheric_pressure(Pascal)     -0.013310\n",
       "blades_angle(°)                  -0.154808\n",
       "Name: windmill_generated_power(kW/h), dtype: float64"
      ]
     },
     "execution_count": 11,
     "metadata": {},
     "output_type": "execute_result"
    }
   ],
   "source": [
    "corr_matrix['windmill_generated_power(kW/h)'].sort_values(ascending=False)"
   ]
  },
  {
   "cell_type": "markdown",
   "id": "7a382a99",
   "metadata": {},
   "source": [
    "# Reduce columns and seperate necessary columns"
   ]
  },
  {
   "cell_type": "code",
   "execution_count": 12,
   "id": "20cbff29",
   "metadata": {},
   "outputs": [],
   "source": [
    "df1['blade_area'] = df1['blade_length(m)'] * df1['blade_breadth(m)']\n",
    "df2['blade_area'] = df2['blade_length(m)'] * df2['blade_breadth(m)']\n"
   ]
  },
  {
   "cell_type": "code",
   "execution_count": 13,
   "id": "7c3cb2b3",
   "metadata": {},
   "outputs": [],
   "source": [
    "del df1['blade_length(m)']\n",
    "del df1['blade_breadth(m)']\n",
    "del df2['blade_length(m)']\n",
    "del df2['blade_breadth(m)']"
   ]
  },
  {
   "cell_type": "markdown",
   "id": "95e8e11a",
   "metadata": {},
   "source": [
    "# Attribute Manipulation"
   ]
  },
  {
   "cell_type": "code",
   "execution_count": 14,
   "id": "8ef4613c",
   "metadata": {},
   "outputs": [],
   "source": [
    "# cloud level\n",
    "df1['cloud_level'].value_counts()\n",
    "df1['cloud_level'] = df1['cloud_level'].replace({'Extremely Low': 0, 'Low': 1, 'Medium': 2})\n",
    "\n",
    "df2['cloud_level'].value_counts()\n",
    "df2['cloud_level'] = df2['cloud_level'].replace({'Extremely Low': 0, 'Low': 1, 'Medium': 2})"
   ]
  },
  {
   "cell_type": "code",
   "execution_count": 15,
   "id": "862b4c84",
   "metadata": {},
   "outputs": [],
   "source": [
    "#turbine_Status\n",
    "df1['turbine_status'].unique()\n",
    "df1['turbine_status'] = df1['turbine_status'].replace({'BA':0,'A2':1,'ABC':2,'AAA':3,'BD':4,'AC':5,'BB':6,'BCB':7,'B':8,'AB':9,'B2':10,'BBB':11,'A':12,'D':13}).astype(float)\n",
    "#print(df1['turbine_status'].value_counts())\n",
    "\n",
    "df2['turbine_status'].unique()\n",
    "df2['turbine_status'] = df2['turbine_status'].replace({'BA':0,'A2':1,'ABC':2,'AAA':3,'BD':4,'AC':5,'BB':6,'BCB':7,'B':8,'AB':9,'B2':10,'BBB':11,'A':12,'D':13}).astype(float)\n",
    "#df2['turbine_status'].value_counts()"
   ]
  },
  {
   "cell_type": "code",
   "execution_count": 16,
   "id": "7a39507a",
   "metadata": {},
   "outputs": [
    {
     "data": {
      "text/plain": [
       "0        14\n",
       "1        10\n",
       "2        14\n",
       "3        15\n",
       "4        03\n",
       "         ..\n",
       "28195    02\n",
       "28196    12\n",
       "28197    02\n",
       "28198    19\n",
       "28199    11\n",
       "Name: time, Length: 28200, dtype: object"
      ]
     },
     "execution_count": 16,
     "metadata": {},
     "output_type": "execute_result"
    }
   ],
   "source": [
    "df1['datetime']=df1['datetime'].astype(str)\n",
    "df1['month']=df1['datetime'].str.slice(5,7)\n",
    "df1['time']=df1['datetime'].str.slice(11,13)\n",
    "\n",
    "df2['datetime']=df1['datetime'].astype(str)\n",
    "df2['month']=df1['datetime'].str.slice(5,7)\n",
    "df2['time']=df1['datetime'].str.slice(11,13)\n",
    "\n",
    "df1['month']\n",
    "df1['time']"
   ]
  },
  {
   "cell_type": "code",
   "execution_count": 17,
   "id": "791c8a91",
   "metadata": {},
   "outputs": [],
   "source": [
    "del df1['datetime']\n",
    "del df2['datetime']"
   ]
  },
  {
   "cell_type": "code",
   "execution_count": 18,
   "id": "d8e933ab",
   "metadata": {},
   "outputs": [
    {
     "name": "stderr",
     "output_type": "stream",
     "text": [
      "<ipython-input-18-ab5d0c78a5cf>:5: FutureWarning: The default value of regex will change from True to False in a future version.\n",
      "  df1['time']=df1['time'].str.replace(pattern[i],k[i])\n",
      "<ipython-input-18-ab5d0c78a5cf>:6: FutureWarning: The default value of regex will change from True to False in a future version.\n",
      "  df2['time']=df1['time'].str.replace(pattern[i],k[i])\n"
     ]
    },
    {
     "data": {
      "text/plain": [
       "4    1548\n",
       "7    1538\n",
       "8    1532\n",
       "6    1522\n",
       "1    1518\n",
       "5    1510\n",
       "2    1474\n",
       "3    1444\n",
       "Name: time, dtype: int64"
      ]
     },
     "execution_count": 18,
     "metadata": {},
     "output_type": "execute_result"
    }
   ],
   "source": [
    "pattern = ['|'.join(['00','01','02']),'|'.join(['03','04','05']),'|'.join(['06','07','08']),'|'.join(['09','10','11']),\n",
    "           '|'.join(['12','13','14']),'|'.join(['15','16','17']),'|'.join(['18','19','20']),'|'.join(['21','22','23'])]\n",
    "k = ['1','2','3','4','5','6','7','8']\n",
    "for i in range(8):\n",
    "    df1['time']=df1['time'].str.replace(pattern[i],k[i])\n",
    "    df2['time']=df1['time'].str.replace(pattern[i],k[i])\n",
    "\n",
    "df1['time'].value_counts()\n",
    "df2['time'].value_counts()"
   ]
  },
  {
   "cell_type": "markdown",
   "id": "ff8a5b42",
   "metadata": {},
   "source": [
    "Deleting those attributes whose correlation was near to 0 or not significant"
   ]
  },
  {
   "cell_type": "code",
   "execution_count": 19,
   "id": "3fb2b9fe",
   "metadata": {},
   "outputs": [],
   "source": [
    "del df1['tracking_id']\n",
    "del df1['windmill_body_temperature(°C)']\n",
    "del df1['windmill_height(m)']\n",
    "\n",
    "del df2['tracking_id']\n",
    "del df2['windmill_body_temperature(°C)']\n",
    "del df2['windmill_height(m)']"
   ]
  },
  {
   "cell_type": "markdown",
   "id": "295d070d",
   "metadata": {},
   "source": [
    "# MISSING VALUES"
   ]
  },
  {
   "cell_type": "code",
   "execution_count": 20,
   "id": "344ecad9",
   "metadata": {},
   "outputs": [
    {
     "name": "stdout",
     "output_type": "stream",
     "text": [
      "wind_speed(m/s)                    273\n",
      "atmospheric_temperature(°C)       3450\n",
      "shaft_temperature(°C)                2\n",
      "blades_angle(°)                    216\n",
      "gearbox_temperature(°C)              1\n",
      "engine_temperature(°C)              12\n",
      "motor_torque(N-m)                   24\n",
      "generator_temperature(°C)           12\n",
      "atmospheric_pressure(Pascal)      2707\n",
      "area_temperature(°C)                 0\n",
      "wind_direction(°)                 5103\n",
      "resistance(ohm)                      1\n",
      "rotor_torque(N-m)                  572\n",
      "turbine_status                    1759\n",
      "cloud_level                        276\n",
      "windmill_generated_power(kW/h)     207\n",
      "blade_area                        5093\n",
      "month                                0\n",
      "time                                 0\n",
      "dtype: int64\n"
     ]
    },
    {
     "data": {
      "text/plain": [
       "wind_speed(m/s)                  126\n",
       "atmospheric_temperature(°C)     1427\n",
       "shaft_temperature(°C)              1\n",
       "blades_angle(°)                  106\n",
       "gearbox_temperature(°C)            1\n",
       "engine_temperature(°C)             5\n",
       "motor_torque(N-m)                 11\n",
       "generator_temperature(°C)          5\n",
       "atmospheric_pressure(Pascal)    1151\n",
       "area_temperature(°C)               1\n",
       "wind_direction(°)               2160\n",
       "resistance(ohm)                    0\n",
       "rotor_torque(N-m)                281\n",
       "turbine_status                   797\n",
       "cloud_level                      125\n",
       "blade_area                      2114\n",
       "month                              0\n",
       "time                               0\n",
       "dtype: int64"
      ]
     },
     "execution_count": 20,
     "metadata": {},
     "output_type": "execute_result"
    }
   ],
   "source": [
    "print(df1.isnull().sum())\n",
    "df2.isnull().sum()"
   ]
  },
  {
   "cell_type": "code",
   "execution_count": 21,
   "id": "cf640632",
   "metadata": {},
   "outputs": [
    {
     "data": {
      "text/plain": [
       "1"
      ]
     },
     "execution_count": 21,
     "metadata": {},
     "output_type": "execute_result"
    }
   ],
   "source": [
    "28200 - df1['shaft_temperature(°C)'].count()           # 2 # mean method can be used\n",
    "28200 - df1['gearbox_temperature(°C)'].count()         # 1 # mean method can be used\n",
    "28200 - df1['engine_temperature(°C)'].count()          # 12 # mean method can be used\n",
    "28200 - df1['motor_torque(N-m)'].count()               # 24 # high positive correlation\n",
    "28200 - df1['generator_temperature(°C)'].count()       # 12 # second high positive correlation \n",
    "28200 - df1['resistance(ohm)'].count()                 # 1 # backfill method can be used\n",
    "\n",
    "12086 - df2['shaft_temperature(°C)'].count()            # 1 # mean method can be used\n",
    "12086 - df2['gearbox_temperature(°C)'].count()          # 1 # mean method can be used\n",
    "12086 - df2['engine_temperature(°C)'].count()           # 5 # mean method can be used\n",
    "12086 - df2['motor_torque(N-m)'].count()                # 11 # high positive correlation\n",
    "12086 - df2['generator_temperature(°C)'].count()        # 5 # second high positive correlation \n",
    "12086 - df2['area_temperature(°C)'].count()             # 1 # backfill method can be used"
   ]
  },
  {
   "cell_type": "markdown",
   "id": "fe4b67ef",
   "metadata": {},
   "source": [
    "# shaft_temperature(°C)"
   ]
  },
  {
   "cell_type": "code",
   "execution_count": 22,
   "id": "9a536f8d",
   "metadata": {},
   "outputs": [
    {
     "name": "stdout",
     "output_type": "stream",
     "text": [
      "28200\n"
     ]
    },
    {
     "data": {
      "text/plain": [
       "12086"
      ]
     },
     "execution_count": 22,
     "metadata": {},
     "output_type": "execute_result"
    }
   ],
   "source": [
    "mean_shaft_temperature_df1 = df1[\"shaft_temperature(°C)\"].mean()\n",
    "df1[\"shaft_temperature(°C)\"].fillna(value = mean_shaft_temperature_df1, inplace = True)\n",
    "print(df1[\"shaft_temperature(°C)\"].count())\n",
    "\n",
    "mean_shaft_temperature_df2 = df2[\"shaft_temperature(°C)\"].mean()\n",
    "df2[\"shaft_temperature(°C)\"].fillna(value = mean_shaft_temperature_df2, inplace = True)\n",
    "df2[\"shaft_temperature(°C)\"].count()"
   ]
  },
  {
   "cell_type": "markdown",
   "id": "6fbae27a",
   "metadata": {},
   "source": [
    "# gearbox_temperature(°C)"
   ]
  },
  {
   "cell_type": "code",
   "execution_count": 23,
   "id": "6b58022c",
   "metadata": {},
   "outputs": [
    {
     "name": "stdout",
     "output_type": "stream",
     "text": [
      "28200\n"
     ]
    },
    {
     "data": {
      "text/plain": [
       "12086"
      ]
     },
     "execution_count": 23,
     "metadata": {},
     "output_type": "execute_result"
    }
   ],
   "source": [
    "mean_gearbox_temperature_df1 = df1[\"gearbox_temperature(°C)\"].mean()\n",
    "df1[\"gearbox_temperature(°C)\"].fillna(value = mean_gearbox_temperature_df1, inplace = True)\n",
    "print(df1[\"gearbox_temperature(°C)\"].count())\n",
    "\n",
    "mean_gearbox_temperature_df2 = df2[\"gearbox_temperature(°C)\"].mean()\n",
    "df2[\"gearbox_temperature(°C)\"].fillna(value = mean_gearbox_temperature_df2, inplace = True)\n",
    "df2[\"gearbox_temperature(°C)\"].count()"
   ]
  },
  {
   "cell_type": "markdown",
   "id": "c73abfb1",
   "metadata": {},
   "source": [
    "# engine_temperature(°C)\n"
   ]
  },
  {
   "cell_type": "code",
   "execution_count": 24,
   "id": "e9ee2bfe",
   "metadata": {},
   "outputs": [
    {
     "name": "stdout",
     "output_type": "stream",
     "text": [
      "28200\n"
     ]
    },
    {
     "data": {
      "text/plain": [
       "12086"
      ]
     },
     "execution_count": 24,
     "metadata": {},
     "output_type": "execute_result"
    }
   ],
   "source": [
    "mean_engine_temperature_df1 = df1[\"engine_temperature(°C)\"].mean()\n",
    "df1[\"engine_temperature(°C)\"].fillna(value = mean_engine_temperature_df1, inplace = True)\n",
    "print(df1[\"engine_temperature(°C)\"].count())\n",
    "\n",
    "mean_engine_temperature_df2 = df2[\"engine_temperature(°C)\"].mean()\n",
    "df2[\"engine_temperature(°C)\"].fillna(value = mean_engine_temperature_df2, inplace = True)\n",
    "df2[\"engine_temperature(°C)\"].count()"
   ]
  },
  {
   "cell_type": "markdown",
   "id": "79946a38",
   "metadata": {},
   "source": [
    "# motor_torque(N-m)"
   ]
  },
  {
   "cell_type": "code",
   "execution_count": 25,
   "id": "6521564e",
   "metadata": {},
   "outputs": [
    {
     "name": "stdout",
     "output_type": "stream",
     "text": [
      "28200\n"
     ]
    },
    {
     "data": {
      "text/plain": [
       "12086"
      ]
     },
     "execution_count": 25,
     "metadata": {},
     "output_type": "execute_result"
    }
   ],
   "source": [
    "mean_motor_torque_df1 = df1[\"motor_torque(N-m)\"].mean()\n",
    "df1[\"motor_torque(N-m)\"].fillna(value = mean_motor_torque_df1, inplace = True)\n",
    "print(df1[\"motor_torque(N-m)\"].count())\n",
    "\n",
    "mean_motor_torque_df2 = df2[\"motor_torque(N-m)\"].mean()\n",
    "df2[\"motor_torque(N-m)\"].fillna(value = mean_motor_torque_df2, inplace = True)\n",
    "df2[\"motor_torque(N-m)\"].count()"
   ]
  },
  {
   "cell_type": "markdown",
   "id": "8f48b887",
   "metadata": {},
   "source": [
    "# generator_temperature(°C)"
   ]
  },
  {
   "cell_type": "code",
   "execution_count": 26,
   "id": "9ee35e7b",
   "metadata": {},
   "outputs": [
    {
     "name": "stdout",
     "output_type": "stream",
     "text": [
      "28200\n"
     ]
    },
    {
     "data": {
      "text/plain": [
       "12086"
      ]
     },
     "execution_count": 26,
     "metadata": {},
     "output_type": "execute_result"
    }
   ],
   "source": [
    "mean_generator_temperature_df1 = df1[\"generator_temperature(°C)\"].mean()\n",
    "df1[\"generator_temperature(°C)\"].fillna(value = mean_generator_temperature_df1, inplace = True)\n",
    "print(df1[\"generator_temperature(°C)\"].count())\n",
    "\n",
    "mean_generator_temperature_df2 = df2[\"generator_temperature(°C)\"].mean()\n",
    "df2[\"generator_temperature(°C)\"].fillna(value = mean_generator_temperature_df2, inplace = True)\n",
    "df2[\"generator_temperature(°C)\"].count()"
   ]
  },
  {
   "cell_type": "markdown",
   "id": "787f0d8f",
   "metadata": {},
   "source": [
    "# resistance(ohm) df1, area_temperature(°C) df2"
   ]
  },
  {
   "cell_type": "code",
   "execution_count": 27,
   "id": "6141804d",
   "metadata": {},
   "outputs": [
    {
     "data": {
      "text/plain": [
       "12086"
      ]
     },
     "execution_count": 27,
     "metadata": {},
     "output_type": "execute_result"
    }
   ],
   "source": [
    "df1['resistance(ohm)'].fillna(method='bfill', inplace=True)\n",
    "df2['area_temperature(°C)'].fillna(method='bfill', inplace=True)\n",
    "df1['resistance(ohm)'].count()\n",
    "df2['area_temperature(°C)'].count()"
   ]
  },
  {
   "cell_type": "markdown",
   "id": "80f54c22",
   "metadata": {},
   "source": [
    "# cloud_level "
   ]
  },
  {
   "cell_type": "code",
   "execution_count": 28,
   "id": "e537e98d",
   "metadata": {},
   "outputs": [
    {
     "name": "stdout",
     "output_type": "stream",
     "text": [
      "28200\n",
      "12086\n"
     ]
    }
   ],
   "source": [
    "# reason why we use [0]  https://stackoverflow.com/questions/42789324/pandas-fillna-mode\n",
    "df1[\"cloud_level\"].fillna(df1[\"cloud_level\"].mode()[0], inplace = True)\n",
    "print(df1[\"cloud_level\"].count())\n",
    "\n",
    "df2[\"cloud_level\"].fillna(df2[\"cloud_level\"].mode()[0], inplace = True)\n",
    "print(df2[\"cloud_level\"].count())"
   ]
  },
  {
   "cell_type": "markdown",
   "id": "0cbf9038",
   "metadata": {},
   "source": [
    "# Filling missing values with group by method"
   ]
  },
  {
   "cell_type": "markdown",
   "id": "6bbac706",
   "metadata": {},
   "source": [
    "# wind_speed(m/s) "
   ]
  },
  {
   "cell_type": "code",
   "execution_count": 29,
   "id": "1b35354e",
   "metadata": {},
   "outputs": [
    {
     "name": "stdout",
     "output_type": "stream",
     "text": [
      "28200\n",
      "12086\n"
     ]
    }
   ],
   "source": [
    "#df1\n",
    "g1 = df1.groupby(by=['time','month'])\n",
    "s1 = g1['wind_speed(m/s)'].agg(np.mean).values     #here .values function used to convert series s into numpy(list)\n",
    "i=0\n",
    "for n,v in g1:\n",
    "    df1.loc[(df1['time']==n[0]) & (df1['month']==n[1]), 'wind_speed(m/s)'] = df1.loc[(df1['time']==n[0]) & (df1['month']==n[1]), 'wind_speed(m/s)'].fillna(s1[i])\n",
    "    i+=1\n",
    "print(df1['wind_speed(m/s)'].count())\n",
    "\n",
    "#df2\n",
    "g2 = df2.groupby(by=['time','month'])\n",
    "s2 = g2['wind_speed(m/s)'].agg(np.mean).values     #here .values function used to convert series s into numpy(list)\n",
    "j=0\n",
    "for n,v in g2:\n",
    "    df2.loc[(df2['time']==n[0]) & (df2['month']==n[1]), 'wind_speed(m/s)'] = df2.loc[(df2['time']==n[0]) & (df2['month']==n[1]), 'wind_speed(m/s)'].fillna(s2[j])\n",
    "    j+=1\n",
    "print(df2['wind_speed(m/s)'].count())\n"
   ]
  },
  {
   "cell_type": "markdown",
   "id": "624f50b0",
   "metadata": {},
   "source": [
    "# turbine_status"
   ]
  },
  {
   "cell_type": "code",
   "execution_count": 30,
   "id": "dd180cc8",
   "metadata": {},
   "outputs": [
    {
     "name": "stdout",
     "output_type": "stream",
     "text": [
      "28200\n",
      "12086\n"
     ]
    }
   ],
   "source": [
    "#df1\n",
    "g1 = df1.groupby(by=['time','month'])\n",
    "s1 = g1['turbine_status'].agg(np.mean).values     #here .values function used to convert series s into numpy(list)\n",
    "i=0\n",
    "for n,v in g1:\n",
    "    df1.loc[(df1['time']==n[0]) & (df1['month']==n[1]), 'turbine_status'] = df1.loc[(df1['time']==n[0]) & (df1['month']==n[1]), 'turbine_status'].fillna(s1[i])\n",
    "    i+=1\n",
    "print(df1['turbine_status'].count())\n",
    "\n",
    "#df2\n",
    "g2 = df2.groupby(by=['time','month'])\n",
    "s2 = g2['turbine_status'].agg(np.mean).values     #here .values function used to convert series s into numpy(list)\n",
    "j=0\n",
    "for n,v in g2:\n",
    "    df2.loc[(df2['time']==n[0]) & (df2['month']==n[1]), 'turbine_status'] = df2.loc[(df2['time']==n[0]) & (df2['month']==n[1]), 'turbine_status'].fillna(s2[j])\n",
    "    j+=1\n",
    "print(df2['turbine_status'].count())\n"
   ]
  },
  {
   "cell_type": "markdown",
   "id": "2f97d407",
   "metadata": {},
   "source": [
    "# atmospheric_temperature(°C)"
   ]
  },
  {
   "cell_type": "code",
   "execution_count": 31,
   "id": "959fe92d",
   "metadata": {},
   "outputs": [
    {
     "name": "stdout",
     "output_type": "stream",
     "text": [
      "28200\n",
      "12086\n"
     ]
    }
   ],
   "source": [
    "#df1\n",
    "g1 = df1.groupby(by=['time','month'])\n",
    "s1 = g1['atmospheric_temperature(°C)'].agg(np.mean).values     #here .values function used to convert series s into numpy(list)\n",
    "i=0\n",
    "for n,v in g1:\n",
    "    df1.loc[(df1['time']==n[0]) & (df1['month']==n[1]), 'atmospheric_temperature(°C)'] = df1.loc[(df1['time']==n[0]) & (df1['month']==n[1]), 'atmospheric_temperature(°C)'].fillna(s1[i])\n",
    "    i+=1\n",
    "print(df1['atmospheric_temperature(°C)'].count())\n",
    "\n",
    "#df2\n",
    "g2 = df2.groupby(by=['time','month'])\n",
    "s2 = g2['atmospheric_temperature(°C)'].agg(np.mean).values     #here .values function used to convert series s into numpy(list)\n",
    "j=0\n",
    "for n,v in g2:\n",
    "    df2.loc[(df2['time']==n[0]) & (df2['month']==n[1]), 'atmospheric_temperature(°C)'] = df2.loc[(df2['time']==n[0]) & (df2['month']==n[1]), 'atmospheric_temperature(°C)'].fillna(s2[j])\n",
    "    j+=1\n",
    "print(df2['atmospheric_temperature(°C)'].count())\n"
   ]
  },
  {
   "cell_type": "markdown",
   "id": "9b8294b2",
   "metadata": {},
   "source": [
    "# blades_angle(°)"
   ]
  },
  {
   "cell_type": "code",
   "execution_count": 32,
   "id": "4c64143c",
   "metadata": {},
   "outputs": [
    {
     "name": "stdout",
     "output_type": "stream",
     "text": [
      "28200\n",
      "12086\n"
     ]
    }
   ],
   "source": [
    "#df1\n",
    "g1 = df1.groupby(by=['time','month'])\n",
    "s1 = g1['blades_angle(°)'].agg(np.mean).values     #here .values function used to convert series s into numpy(list)\n",
    "i=0\n",
    "for n,v in g1:\n",
    "    df1.loc[(df1['time']==n[0]) & (df1['month']==n[1]), 'blades_angle(°)'] = df1.loc[(df1['time']==n[0]) & (df1['month']==n[1]), 'blades_angle(°)'].fillna(s1[i])\n",
    "    i+=1\n",
    "print(df1['blades_angle(°)'].count())\n",
    "\n",
    "#df2\n",
    "g2 = df2.groupby(by=['time','month'])\n",
    "s2 = g2['atmospheric_temperature(°C)'].agg(np.mean).values     #here .values function used to convert series s into numpy(list)\n",
    "j=0\n",
    "for n,v in g2:\n",
    "    df2.loc[(df2['time']==n[0]) & (df2['month']==n[1]), 'blades_angle(°)'] = df2.loc[(df2['time']==n[0]) & (df2['month']==n[1]), 'blades_angle(°)'].fillna(s2[j])\n",
    "    j+=1\n",
    "print(df2['blades_angle(°)'].count())\n"
   ]
  },
  {
   "cell_type": "markdown",
   "id": "0bfc4217",
   "metadata": {},
   "source": [
    "# atmospheric_pressure(Pascal)"
   ]
  },
  {
   "cell_type": "code",
   "execution_count": 33,
   "id": "01ef6398",
   "metadata": {},
   "outputs": [
    {
     "name": "stdout",
     "output_type": "stream",
     "text": [
      "28200\n",
      "12086\n"
     ]
    }
   ],
   "source": [
    "#df1\n",
    "g1 = df1.groupby(by=['time','month'])\n",
    "s1 = g1['atmospheric_pressure(Pascal)'].agg(np.mean).values     #here .values function used to convert series s into numpy(list)\n",
    "i=0\n",
    "for n,v in g1:\n",
    "    df1.loc[(df1['time']==n[0]) & (df1['month']==n[1]), 'atmospheric_pressure(Pascal)'] = df1.loc[(df1['time']==n[0]) & (df1['month']==n[1]), 'atmospheric_pressure(Pascal)'].fillna(s1[i])\n",
    "    i+=1\n",
    "print(df1['atmospheric_pressure(Pascal)'].count())\n",
    "\n",
    "#df2\n",
    "g2 = df2.groupby(by=['time','month'])\n",
    "s2 = g2['atmospheric_pressure(Pascal)'].agg(np.mean).values     #here .values function used to convert series s into numpy(list)\n",
    "j=0\n",
    "for n,v in g2:\n",
    "    df2.loc[(df2['time']==n[0]) & (df2['month']==n[1]), 'atmospheric_pressure(Pascal)'] = df2.loc[(df2['time']==n[0]) & (df2['month']==n[1]), 'atmospheric_pressure(Pascal)'].fillna(s2[j])\n",
    "    j+=1\n",
    "print(df2['atmospheric_pressure(Pascal)'].count())\n"
   ]
  },
  {
   "cell_type": "markdown",
   "id": "7b34ceab",
   "metadata": {},
   "source": [
    "# wind_direction(°)"
   ]
  },
  {
   "cell_type": "code",
   "execution_count": 34,
   "id": "c45bdf48",
   "metadata": {},
   "outputs": [
    {
     "name": "stdout",
     "output_type": "stream",
     "text": [
      "28200\n",
      "12086\n"
     ]
    }
   ],
   "source": [
    "#df1\n",
    "g1 = df1.groupby(by=['time','month'])\n",
    "s1 = g1['wind_direction(°)'].agg(np.mean).values     #here .values function used to convert series s into numpy(list)\n",
    "i=0\n",
    "for n,v in g1:\n",
    "    df1.loc[(df1['time']==n[0]) & (df1['month']==n[1]), 'wind_direction(°)'] = df1.loc[(df1['time']==n[0]) & (df1['month']==n[1]), 'wind_direction(°)'].fillna(s1[i])\n",
    "    i+=1\n",
    "print(df1['wind_direction(°)'].count())\n",
    "\n",
    "#df2\n",
    "g2 = df2.groupby(by=['time','month'])\n",
    "s2 = g2['wind_direction(°)'].agg(np.mean).values     #here .values function used to convert series s into numpy(list)\n",
    "j=0\n",
    "for n,v in g2:\n",
    "    df2.loc[(df2['time']==n[0]) & (df2['month']==n[1]), 'wind_direction(°)'] = df2.loc[(df2['time']==n[0]) & (df2['month']==n[1]), 'wind_direction(°)'].fillna(s2[j])\n",
    "    j+=1\n",
    "print(df2['wind_direction(°)'].count())\n"
   ]
  },
  {
   "cell_type": "markdown",
   "id": "1ddb5b32",
   "metadata": {},
   "source": [
    "# rotor_torque(N-m)"
   ]
  },
  {
   "cell_type": "code",
   "execution_count": 35,
   "id": "32515cee",
   "metadata": {},
   "outputs": [
    {
     "name": "stdout",
     "output_type": "stream",
     "text": [
      "28200\n",
      "12086\n"
     ]
    }
   ],
   "source": [
    "#df1\n",
    "g1 = df1.groupby(by=['time','month'])\n",
    "s1 = g1['rotor_torque(N-m)'].agg(np.mean).values     #here .values function used to convert series s into numpy(list)\n",
    "i=0\n",
    "for n,v in g1:\n",
    "    df1.loc[(df1['time']==n[0]) & (df1['month']==n[1]), 'rotor_torque(N-m)'] = df1.loc[(df1['time']==n[0]) & (df1['month']==n[1]), 'rotor_torque(N-m)'].fillna(s1[i])\n",
    "    i+=1\n",
    "print(df1['rotor_torque(N-m)'].count())\n",
    "\n",
    "#df2\n",
    "g2 = df2.groupby(by=['time','month'])\n",
    "s2 = g2['rotor_torque(N-m)'].agg(np.mean).values     #here .values function used to convert series s into numpy(list)\n",
    "j=0\n",
    "for n,v in g2:\n",
    "    df2.loc[(df2['time']==n[0]) & (df2['month']==n[1]), 'rotor_torque(N-m)'] = df2.loc[(df2['time']==n[0]) & (df2['month']==n[1]), 'rotor_torque(N-m)'].fillna(s2[j])\n",
    "    j+=1\n",
    "print(df2['rotor_torque(N-m)'].count())\n"
   ]
  },
  {
   "cell_type": "markdown",
   "id": "6c16fe8e",
   "metadata": {},
   "source": [
    "# blade_area"
   ]
  },
  {
   "cell_type": "code",
   "execution_count": 36,
   "id": "d7edfe41",
   "metadata": {},
   "outputs": [
    {
     "name": "stdout",
     "output_type": "stream",
     "text": [
      "28200\n",
      "12086\n"
     ]
    }
   ],
   "source": [
    "#df1\n",
    "g1 = df1.groupby(by=['time','month'])\n",
    "s1 = g1['blade_area'].agg(np.mean).values     #here .values function used to convert series s into numpy(list)\n",
    "i=0\n",
    "for n,v in g1:\n",
    "    df1.loc[(df1['time']==n[0]) & (df1['month']==n[1]), 'blade_area'] = df1.loc[(df1['time']==n[0]) & (df1['month']==n[1]), 'blade_area'].fillna(s1[i])\n",
    "    i+=1\n",
    "print(df1['blade_area'].count())\n",
    "\n",
    "#df2\n",
    "g2 = df2.groupby(by=['time','month'])\n",
    "s2 = g2['blade_area'].agg(np.mean).values     #here .values function used to convert series s into numpy(list)\n",
    "j=0\n",
    "for n,v in g2:\n",
    "    df2.loc[(df2['time']==n[0]) & (df2['month']==n[1]), 'blade_area'] = df2.loc[(df2['time']==n[0]) & (df2['month']==n[1]), 'blade_area'].fillna(s2[j])\n",
    "    j+=1\n",
    "print(df2['blade_area'].count())\n"
   ]
  },
  {
   "cell_type": "markdown",
   "id": "57beb0a4",
   "metadata": {},
   "source": [
    "# windmill_generated_power(kW/h)"
   ]
  },
  {
   "cell_type": "code",
   "execution_count": 37,
   "id": "9b8890ed",
   "metadata": {},
   "outputs": [
    {
     "name": "stdout",
     "output_type": "stream",
     "text": [
      "28200\n"
     ]
    }
   ],
   "source": [
    "#df1\n",
    "g1 = df1.groupby(by=['time','month'])\n",
    "s1 = g1['windmill_generated_power(kW/h)'].agg(np.mean).values     #here .values function used to convert series s into numpy(list)\n",
    "i=0\n",
    "for n,v in g1:\n",
    "    df1.loc[(df1['time']==n[0]) & (df1['month']==n[1]), 'windmill_generated_power(kW/h)'] = df1.loc[(df1['time']==n[0]) & (df1['month']==n[1]), 'windmill_generated_power(kW/h)'].fillna(s1[i])\n",
    "    i+=1\n",
    "print(df1['windmill_generated_power(kW/h)'].count())"
   ]
  },
  {
   "cell_type": "code",
   "execution_count": 38,
   "id": "473fbdce",
   "metadata": {},
   "outputs": [
    {
     "name": "stdout",
     "output_type": "stream",
     "text": [
      "<class 'pandas.core.frame.DataFrame'>\n",
      "RangeIndex: 28200 entries, 0 to 28199\n",
      "Data columns (total 19 columns):\n",
      " #   Column                          Non-Null Count  Dtype  \n",
      "---  ------                          --------------  -----  \n",
      " 0   wind_speed(m/s)                 28200 non-null  float64\n",
      " 1   atmospheric_temperature(°C)     28200 non-null  float64\n",
      " 2   shaft_temperature(°C)           28200 non-null  float64\n",
      " 3   blades_angle(°)                 28200 non-null  float64\n",
      " 4   gearbox_temperature(°C)         28200 non-null  float64\n",
      " 5   engine_temperature(°C)          28200 non-null  float64\n",
      " 6   motor_torque(N-m)               28200 non-null  float64\n",
      " 7   generator_temperature(°C)       28200 non-null  float64\n",
      " 8   atmospheric_pressure(Pascal)    28200 non-null  float64\n",
      " 9   area_temperature(°C)            28200 non-null  float64\n",
      " 10  wind_direction(°)               28200 non-null  float64\n",
      " 11  resistance(ohm)                 28200 non-null  float64\n",
      " 12  rotor_torque(N-m)               28200 non-null  float64\n",
      " 13  turbine_status                  28200 non-null  float64\n",
      " 14  cloud_level                     28200 non-null  float64\n",
      " 15  windmill_generated_power(kW/h)  28200 non-null  float64\n",
      " 16  blade_area                      28200 non-null  float64\n",
      " 17  month                           28200 non-null  object \n",
      " 18  time                            28200 non-null  object \n",
      "dtypes: float64(17), object(2)\n",
      "memory usage: 4.1+ MB\n",
      "<class 'pandas.core.frame.DataFrame'>\n",
      "RangeIndex: 12086 entries, 0 to 12085\n",
      "Data columns (total 18 columns):\n",
      " #   Column                        Non-Null Count  Dtype  \n",
      "---  ------                        --------------  -----  \n",
      " 0   wind_speed(m/s)               12086 non-null  float64\n",
      " 1   atmospheric_temperature(°C)   12086 non-null  float64\n",
      " 2   shaft_temperature(°C)         12086 non-null  float64\n",
      " 3   blades_angle(°)               12086 non-null  float64\n",
      " 4   gearbox_temperature(°C)       12086 non-null  float64\n",
      " 5   engine_temperature(°C)        12086 non-null  float64\n",
      " 6   motor_torque(N-m)             12086 non-null  float64\n",
      " 7   generator_temperature(°C)     12086 non-null  float64\n",
      " 8   atmospheric_pressure(Pascal)  12086 non-null  float64\n",
      " 9   area_temperature(°C)          12086 non-null  float64\n",
      " 10  wind_direction(°)             12086 non-null  float64\n",
      " 11  resistance(ohm)               12086 non-null  float64\n",
      " 12  rotor_torque(N-m)             12086 non-null  float64\n",
      " 13  turbine_status                12086 non-null  float64\n",
      " 14  cloud_level                   12086 non-null  float64\n",
      " 15  blade_area                    12086 non-null  float64\n",
      " 16  month                         12086 non-null  object \n",
      " 17  time                          12086 non-null  object \n",
      "dtypes: float64(16), object(2)\n",
      "memory usage: 1.7+ MB\n"
     ]
    }
   ],
   "source": [
    "df1.info()\n",
    "df2.info()"
   ]
  },
  {
   "cell_type": "code",
   "execution_count": 39,
   "id": "bb146efb",
   "metadata": {},
   "outputs": [
    {
     "name": "stdout",
     "output_type": "stream",
     "text": [
      "<class 'pandas.core.frame.DataFrame'>\n",
      "RangeIndex: 28200 entries, 0 to 28199\n",
      "Data columns (total 19 columns):\n",
      " #   Column                          Non-Null Count  Dtype  \n",
      "---  ------                          --------------  -----  \n",
      " 0   wind_speed(m/s)                 28200 non-null  float64\n",
      " 1   atmospheric_temperature(°C)     28200 non-null  float64\n",
      " 2   shaft_temperature(°C)           28200 non-null  float64\n",
      " 3   blades_angle(°)                 28200 non-null  float64\n",
      " 4   gearbox_temperature(°C)         28200 non-null  float64\n",
      " 5   engine_temperature(°C)          28200 non-null  float64\n",
      " 6   motor_torque(N-m)               28200 non-null  float64\n",
      " 7   generator_temperature(°C)       28200 non-null  float64\n",
      " 8   atmospheric_pressure(Pascal)    28200 non-null  float64\n",
      " 9   area_temperature(°C)            28200 non-null  float64\n",
      " 10  wind_direction(°)               28200 non-null  float64\n",
      " 11  resistance(ohm)                 28200 non-null  float64\n",
      " 12  rotor_torque(N-m)               28200 non-null  float64\n",
      " 13  turbine_status                  28200 non-null  float64\n",
      " 14  cloud_level                     28200 non-null  float64\n",
      " 15  windmill_generated_power(kW/h)  28200 non-null  float64\n",
      " 16  blade_area                      28200 non-null  float64\n",
      " 17  month                           28200 non-null  object \n",
      " 18  time                            28200 non-null  object \n",
      "dtypes: float64(17), object(2)\n",
      "memory usage: 4.1+ MB\n",
      "<class 'pandas.core.frame.DataFrame'>\n",
      "RangeIndex: 12086 entries, 0 to 12085\n",
      "Data columns (total 19 columns):\n",
      " #   Column                          Non-Null Count  Dtype  \n",
      "---  ------                          --------------  -----  \n",
      " 0   wind_speed(m/s)                 12086 non-null  float64\n",
      " 1   atmospheric_temperature(°C)     12086 non-null  float64\n",
      " 2   shaft_temperature(°C)           12086 non-null  float64\n",
      " 3   blades_angle(°)                 12086 non-null  float64\n",
      " 4   gearbox_temperature(°C)         12086 non-null  float64\n",
      " 5   engine_temperature(°C)          12086 non-null  float64\n",
      " 6   motor_torque(N-m)               12086 non-null  float64\n",
      " 7   generator_temperature(°C)       12086 non-null  float64\n",
      " 8   atmospheric_pressure(Pascal)    12086 non-null  float64\n",
      " 9   area_temperature(°C)            12086 non-null  float64\n",
      " 10  wind_direction(°)               12086 non-null  float64\n",
      " 11  resistance(ohm)                 12086 non-null  float64\n",
      " 12  rotor_torque(N-m)               12086 non-null  float64\n",
      " 13  turbine_status                  12086 non-null  float64\n",
      " 14  cloud_level                     12086 non-null  float64\n",
      " 15  windmill_generated_power(kW/h)  0 non-null      float64\n",
      " 16  blade_area                      12086 non-null  float64\n",
      " 17  month                           12086 non-null  object \n",
      " 18  time                            12086 non-null  object \n",
      "dtypes: float64(17), object(2)\n",
      "memory usage: 1.8+ MB\n"
     ]
    }
   ],
   "source": [
    "df=pd.concat([df1,df2],ignore_index=True)\n",
    "df1=df.iloc[:28200,:]\n",
    "df2=df.iloc[28200:,:]\n",
    "df2=df2.reset_index(drop=True)\n",
    "df1.info()\n",
    "df2.info()"
   ]
  },
  {
   "cell_type": "markdown",
   "id": "62e3e605",
   "metadata": {},
   "source": [
    "# Training model"
   ]
  },
  {
   "cell_type": "code",
   "execution_count": 42,
   "id": "5ede970c",
   "metadata": {},
   "outputs": [],
   "source": [
    "x_train=df1.iloc[:,[1,2,3,4,5,6,7,8,9,10,11,12,13,14,16]]\n",
    "y_train=df1.iloc[:,15]\n",
    "\n",
    "x_test=df2.iloc[:,[1,2,3,4,5,6,7,8,9,10,11,12,13,14,16]]"
   ]
  },
  {
   "cell_type": "markdown",
   "id": "12954f48",
   "metadata": {},
   "source": [
    "# Selecting a model"
   ]
  },
  {
   "cell_type": "code",
   "execution_count": 43,
   "id": "c4d88cf4",
   "metadata": {
    "scrolled": true
   },
   "outputs": [
    {
     "data": {
      "text/plain": [
       "RandomForestRegressor()"
      ]
     },
     "execution_count": 43,
     "metadata": {},
     "output_type": "execute_result"
    }
   ],
   "source": [
    "from sklearn.linear_model import LinearRegression\n",
    "from sklearn.ensemble import RandomForestRegressor\n",
    "model = RandomForestRegressor()\n",
    "#model = LinearRegression()\n",
    "model.fit(x_train,y_train)"
   ]
  },
  {
   "cell_type": "code",
   "execution_count": 44,
   "id": "1c1be38c",
   "metadata": {},
   "outputs": [
    {
     "name": "stdout",
     "output_type": "stream",
     "text": [
      "[2.60548518 2.49250229 3.43149315 6.01653618 3.40039482]\n"
     ]
    }
   ],
   "source": [
    "prediction_test = model.predict(x_test)\n",
    "print(prediction_test[0:5])"
   ]
  },
  {
   "cell_type": "code",
   "execution_count": 45,
   "id": "79aff392",
   "metadata": {},
   "outputs": [
    {
     "name": "stdout",
     "output_type": "stream",
     "text": [
      "[ 7.2049549   6.03299889  2.92027989 14.65550924  3.44330306] 0     6.766521\n",
      "1     5.966275\n",
      "2     2.874342\n",
      "3    14.851089\n",
      "4     3.519074\n",
      "Name: windmill_generated_power(kW/h), dtype: float64\n"
     ]
    }
   ],
   "source": [
    "prediction_train = model.predict(x_train)\n",
    "print(prediction_train[0:5],y_train[0:5])"
   ]
  },
  {
   "cell_type": "code",
   "execution_count": 46,
   "id": "a40175b4",
   "metadata": {},
   "outputs": [
    {
     "data": {
      "text/plain": [
       "0.993896268902856"
      ]
     },
     "execution_count": 46,
     "metadata": {},
     "output_type": "execute_result"
    }
   ],
   "source": [
    "model.score(x_train,y_train)"
   ]
  },
  {
   "cell_type": "markdown",
   "id": "5ad64759",
   "metadata": {},
   "source": [
    "# Saving the model"
   ]
  },
  {
   "cell_type": "code",
   "execution_count": 47,
   "id": "6e5e11ad",
   "metadata": {},
   "outputs": [
    {
     "data": {
      "text/plain": [
       "['power_generation.joblib']"
      ]
     },
     "execution_count": 47,
     "metadata": {},
     "output_type": "execute_result"
    }
   ],
   "source": [
    "from joblib import dump, load\n",
    "dump(model, 'power_generation.joblib')"
   ]
  }
 ],
 "metadata": {
  "kernelspec": {
   "display_name": "Python 3",
   "language": "python",
   "name": "python3"
  },
  "language_info": {
   "codemirror_mode": {
    "name": "ipython",
    "version": 3
   },
   "file_extension": ".py",
   "mimetype": "text/x-python",
   "name": "python",
   "nbconvert_exporter": "python",
   "pygments_lexer": "ipython3",
   "version": "3.9.4"
  }
 },
 "nbformat": 4,
 "nbformat_minor": 5
}
