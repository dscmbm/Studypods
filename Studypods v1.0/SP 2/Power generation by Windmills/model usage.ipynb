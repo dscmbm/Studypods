{
 "cells": [
  {
   "cell_type": "markdown",
   "id": "3ff480cc",
   "metadata": {},
   "source": [
    "# Model Testing"
   ]
  },
  {
   "cell_type": "code",
   "execution_count": 1,
   "id": "fac71764",
   "metadata": {},
   "outputs": [],
   "source": [
    "from joblib import dump, load\n",
    "import numpy as np\n",
    "model = load('power_generation.joblib')"
   ]
  },
  {
   "cell_type": "code",
   "execution_count": 9,
   "id": "cecac35a",
   "metadata": {},
   "outputs": [
    {
     "data": {
      "text/plain": [
       "array([2.53905561])"
      ]
     },
     "execution_count": 9,
     "metadata": {},
     "output_type": "execute_result"
    }
   ],
   "source": [
    "input = np.array([[89.71419, 51.146788, 40.460560, 39.594734, 1073.202715, 66.830037, 16681.044117, \n",
    "                  24.004812, 445.976992,1664.222023, 21.912243, 2.0, 1.286968, 4,3]])\n",
    "\n",
    "model.predict(input)"
   ]
  },
  {
   "cell_type": "code",
   "execution_count": null,
   "id": "259f87ad",
   "metadata": {},
   "outputs": [],
   "source": []
  }
 ],
 "metadata": {
  "kernelspec": {
   "display_name": "Python 3",
   "language": "python",
   "name": "python3"
  },
  "language_info": {
   "codemirror_mode": {
    "name": "ipython",
    "version": 3
   },
   "file_extension": ".py",
   "mimetype": "text/x-python",
   "name": "python",
   "nbconvert_exporter": "python",
   "pygments_lexer": "ipython3",
   "version": "3.9.4"
  }
 },
 "nbformat": 4,
 "nbformat_minor": 5
}
